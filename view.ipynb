{
 "cells": [
  {
   "cell_type": "code",
   "execution_count": 3,
   "metadata": {
    "pycharm": {
     "name": "#%%$\n"
    }
   },
   "outputs": [],
   "source": [
    "import seaborn as sns\n",
    "import importlib\n",
    "import paper_gen as pg\n",
    "importlib.reload(pg)\n",
    "sns.set(context=\"paper\", style=\"white\", font_scale=1)\n",
    "\n",
    "path = '/tmp/table1'\n",
    "ed_th = [.1, .2, .3, .5]\n",
    "flags, dists, stats = pg.get_summary(path=path, thresh=ed_th)\n",
    "pg.texify_table(flags=flags, stats=stats, thresh=ed_th)\n",
    "pg.gen_fig_s1(flags=flags, dists=dists)\n",
    "pg.gen_fig_s2(flags=flags, dists=dists, ed_th=ed_th)\n",
    "\n",
    "path = '/tmp/fig1/'\n",
    "pg.gen_fig1(fig1_path=path)\n",
    "\n",
    "path = '/tmp/fig2'\n",
    "pg.gen_fig2(path=path)\n"
   ]
  }
 ],
 "metadata": {
  "kernelspec": {
   "display_name": "Python 3",
   "language": "python",
   "name": "python3"
  },
  "language_info": {
   "codemirror_mode": {
    "name": "ipython",
    "version": 3
   },
   "file_extension": ".py",
   "mimetype": "text/x-python",
   "name": "python",
   "nbconvert_exporter": "python",
   "pygments_lexer": "ipython3",
   "version": "3.8.6"
  }
 },
 "nbformat": 4,
 "nbformat_minor": 1
}